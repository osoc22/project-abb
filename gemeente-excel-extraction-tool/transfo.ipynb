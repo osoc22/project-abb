{
 "cells": [
  {
   "cell_type": "markdown",
   "metadata": {},
   "source": [
    "# Excel file transformations\n"
   ]
  },
  {
   "cell_type": "code",
   "execution_count": 3,
   "metadata": {},
   "outputs": [
    {
     "name": "stdout",
     "output_type": "stream",
     "text": [
      "Spark Context Initialised\n"
     ]
    },
    {
     "name": "stderr",
     "output_type": "stream",
     "text": [
      "/opt/homebrew/Caskroom/miniforge/base/lib/python3.10/site-packages/pyspark/sql/context.py:112: FutureWarning: Deprecated in 3.0.0. Use SparkSession.builder.getOrCreate() instead.\n",
      "  warnings.warn(\n"
     ]
    }
   ],
   "source": [
    "from pyspark import SparkContext\n",
    "from pyspark.sql.types import *\n",
    "from pyspark.sql import *\n",
    "from typing import List\n",
    "import json\n",
    "import numpy as np\n",
    "import shutil\n",
    "import pandas as pd\n",
    "import os\n",
    "from pyspark.sql import functions as F\n",
    "from pyspark.sql.functions import col, desc, asc, udf, max, struct\n",
    "try:\n",
    "    sc = SparkContext(\"local\").getOrCreate()\n",
    "except:\n",
    "    print(\"Spark Context Initialised\")\n",
    "\n",
    "sqlContext = SQLContext(sc)\n",
    "# spark = SparkSession(sc)\n",
    "\n",
    "# spark.conf.set(\"spark.sql.repl.eagerEval.enabled\", True)\n",
    "\n",
    "spark = SparkSession.builder \\\n",
    ".master(\"local\") \\\n",
    ".appName(\"Word Count\") \\\n",
    ".config(\"spark.jars.packages\", \"com.crealytics:spark-excel_2.11:0.12.2\") \\\n",
    ".getOrCreate()"
   ]
  },
  {
   "cell_type": "code",
   "execution_count": 4,
   "metadata": {},
   "outputs": [
    {
     "name": "stdout",
     "output_type": "stream",
     "text": [
      "No.\n",
      "No.\n",
      "No.\n",
      "No.\n",
      "No.\n",
      "No.\n",
      "No.\n",
      "No.\n",
      "No.\n",
      "No.\n",
      "No.\n",
      "No.\n",
      "No.\n",
      "No.\n",
      "No.\n",
      "No.\n",
      "No.\n",
      "No.\n",
      "No.\n",
      "No.\n"
     ]
    }
   ],
   "source": [
    "# filePath =\"./data/Alle_Indicatoren.xlsx\"\n",
    "directory = \"./data/\"\n",
    "output_directory = \"./formatted_data/\"\n",
    "try:\n",
    "    if os.path.exists(output_directory):\n",
    "        shutil.rmtree(output_directory)\n",
    "    os.mkdir(output_directory)\n",
    "\n",
    "    for filename in os.scandir(directory):\n",
    "        if filename.is_file() and filename.name != \".DS_Store\":\n",
    "            filePath = filename.path\n",
    "\n",
    "            excelFile = pd.ExcelFile(filePath)\n",
    "            pdf = pd.read_excel(filePath)\n",
    "\n",
    "            sheet_names = excelFile.sheet_names\n",
    "            formatted_filename = filename.name.removesuffix('.xlsx').removesuffix(' ').replace(\" \", \"_\").lower()\n",
    "\n",
    "            os.mkdir(output_directory.lower() + formatted_filename)\n",
    "\n",
    "            try:\n",
    "                for worksheet in sheet_names:\n",
    "                    try:\n",
    "                        pdf_01 = pd.read_excel(filePath, worksheet)\n",
    "                        pdf_01[\"Gemeente\"] = pdf_01[\"Gemeente\"].str.removesuffix(' ').replace(\" \", \"_\").str.lower().str.removeprefix(\"_\").str.removeprefix(\" \")\n",
    "\n",
    "                        worksheet_indicator = pdf_01[\"Indicator\"][0].removesuffix(' ').replace(\" \", \"_\").lower()\n",
    "\n",
    "    \n",
    "\n",
    "                        prep_json = pdf_01.to_json(orient='records')\n",
    "                        final_json = json.loads(prep_json)\n",
    "\n",
    "                        with open(f\"./formatted_data/{formatted_filename}/{worksheet_indicator}.json\", \"w\") as outfile:\n",
    "                            json.dump(final_json, outfile)\n",
    "                    except:\n",
    "                        print(\"No.\")\n",
    "            except Exception as e:\n",
    "                print(e)\n",
    "except(Exception) as e:\n",
    "    print(e)\n",
    "\n",
    "\n"
   ]
  }
 ],
 "metadata": {
  "kernelspec": {
   "display_name": "Python 3.10.6 ('base')",
   "language": "python",
   "name": "python3"
  },
  "language_info": {
   "codemirror_mode": {
    "name": "ipython",
    "version": 3
   },
   "file_extension": ".py",
   "mimetype": "text/x-python",
   "name": "python",
   "nbconvert_exporter": "python",
   "pygments_lexer": "ipython3",
   "version": "3.10.6"
  },
  "orig_nbformat": 4,
  "vscode": {
   "interpreter": {
    "hash": "c6e4e9f98eb68ad3b7c296f83d20e6de614cb42e90992a65aa266555a3137d0d"
   }
  }
 },
 "nbformat": 4,
 "nbformat_minor": 2
}
